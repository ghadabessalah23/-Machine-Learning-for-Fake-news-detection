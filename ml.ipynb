{
 "cells": [
  {
   "cell_type": "code",
   "execution_count": 1,
   "metadata": {},
   "outputs": [],
   "source": [
    "import numpy as np\n",
    "import pandas as pd\n",
    "import matplotlib.pyplot as plt\n"
   ]
  },
  {
   "cell_type": "code",
   "execution_count": 2,
   "metadata": {},
   "outputs": [],
   "source": [
    "fake = pd.read_csv('Fake.csv', delimiter = ',')"
   ]
  },
  {
   "cell_type": "code",
   "execution_count": 3,
   "metadata": {},
   "outputs": [],
   "source": [
    "true = pd.read_csv('True.csv', delimiter = ',')"
   ]
  },
  {
   "cell_type": "code",
   "execution_count": 4,
   "metadata": {},
   "outputs": [],
   "source": [
    "fake['sentiment']= 0\n",
    "true['sentiment']= 1\n",
    "\n",
    "dataset =pd.DataFrame()\n",
    "dataset = true.append(fake)"
   ]
  },
  {
   "cell_type": "code",
   "execution_count": 5,
   "metadata": {},
   "outputs": [],
   "source": [
    "column = ['date','subject']\n",
    "dataset = dataset.drop(columns=column)\n",
    "input_array=np.array(dataset['title'])"
   ]
  },
  {
   "cell_type": "code",
   "execution_count": null,
   "metadata": {},
   "outputs": [],
   "source": [
    "import re\n",
    "import nltk\n",
    "#nltk.download('stopwords')\n",
    "from nltk.corpus import stopwords\n",
    "from nltk.stem.porter import PorterStemmer\n",
    "corpus = []\n",
    "for i in range(0, 40000):\n",
    "    review = re.sub('[^a-zA-Z]', ' ', input_array[i])\n",
    "    review = review.lower()\n",
    "    review = review.split()\n",
    "    ps = PorterStemmer()\n",
    "    review = [ps.stem(word) for word in review if not word in set(stopwords.words('english'))]\n",
    "    review = ' '.join(review)\n",
    "    corpus.append(review)"
   ]
  },
  {
   "cell_type": "code",
   "execution_count": null,
   "metadata": {
    "scrolled": true
   },
   "outputs": [],
   "source": [
    "from sklearn.feature_extraction.text import CountVectorizer\n",
    "cv = CountVectorizer(max_features = 5000)\n",
    "X = cv.fit_transform(corpus).toarray()\n",
    "y = dataset.iloc[0:40000, 2].values"
   ]
  },
  {
   "cell_type": "code",
   "execution_count": null,
   "metadata": {},
   "outputs": [],
   "source": [
    "from sklearn.model_selection import train_test_split\n",
    "X_train, X_test, y_train, y_test = train_test_split(X, y, test_size = 0.20, random_state = 0)"
   ]
  },
  {
   "cell_type": "code",
   "execution_count": null,
   "metadata": {},
   "outputs": [],
   "source": [
    "from sklearn.metrics import precision_score, recall_score\n",
    "from sklearn.metrics import f1_score\n",
    "from sklearn.metrics import accuracy_score\n",
    "import matplotlib.pyplot as plt\n",
    "from sklearn import metrics\n",
    "import numpy as np"
   ]
  },
  {
   "cell_type": "code",
   "execution_count": null,
   "metadata": {},
   "outputs": [],
   "source": [
    "#regression logistique\n",
    "from sklearn.linear_model import LogisticRegression\n",
    "regression_logistique=LogisticRegression(solver='lbfgs')\n",
    "regression_logistique.fit(X_train,y_train)\n",
    "prediction=regression_logistique.predict(X_test)\n",
    "print('Regression Logistique (accuracy): '+str(accuracy_score(prediction,y_test)))\n",
    "#mesure des performances\n",
    "\n",
    "VN,FP,FN,VP=metrics.confusion_matrix(y_test,prediction).ravel()#tn fp fn tp\n",
    "print('VN,FP,FN,VP : ') \n",
    "print(VN,FP,FN,VP)\n",
    "\n",
    "precision=precision_score(y_test,prediction)\n",
    "print('precision :'+str(precision))\n",
    "recall=recall_score(y_test,prediction)\n",
    "print('recall :'+str(recall))\n",
    "F1=f1_score(y_test,prediction)\n",
    "print('F1 :'+str(F1))"
   ]
  },
  {
   "cell_type": "code",
   "execution_count": null,
   "metadata": {},
   "outputs": [],
   "source": [
    "#Naive Bayes\n",
    "from sklearn.naive_bayes import GaussianNB\n",
    "bayesien = GaussianNB()\n",
    "bayesien.fit(X_train,y_train)\n",
    "prediction=bayesien.predict(X_test)\n",
    "print('Naive Bayes (accuracy): '+str(accuracy_score(prediction,y_test)))\n",
    "#mesure des performances\n",
    "\n",
    "VN,FP,FN,VP=metrics.confusion_matrix(y_test,prediction).ravel()#tn fp fn tp\n",
    "print('VN,FP,FN,VP : ') \n",
    "print(VN,FP,FN,VP)\n",
    "\n",
    "precision=precision_score(y_test,prediction)\n",
    "print('precision :'+str(precision))\n",
    "recall=recall_score(y_test,prediction)\n",
    "print('recall :'+str(recall))\n",
    "F1=f1_score(y_test,prediction)\n",
    "print('F1 :'+str(F1))"
   ]
  },
  {
   "cell_type": "code",
   "execution_count": null,
   "metadata": {},
   "outputs": [],
   "source": [
    "#Perceptron\n",
    "from sklearn.linear_model import Perceptron\n",
    "perceptron = Perceptron(tol=1e-3, random_state=0)\n",
    "perceptron.fit(X_train,y_train)\n",
    "prediction=perceptron.predict(X_test)\n",
    "print('Perceptron (accuracy): '+str(accuracy_score(prediction,y_test)))\n",
    "#mesure des performances\n",
    "\n",
    "VN,FP,FN,VP=metrics.confusion_matrix(y_test,prediction).ravel()#tn fp fn tp\n",
    "print('VN,FP,FN,VP : ') \n",
    "print(VN,FP,FN,VP)\n",
    "\n",
    "precision=precision_score(y_test,prediction)\n",
    "print('precision :'+str(precision))\n",
    "recall=recall_score(y_test,prediction)\n",
    "print('recall :'+str(recall))\n",
    "F1=f1_score(y_test,prediction)\n",
    "print('F1 :'+str(F1))"
   ]
  },
  {
   "cell_type": "code",
   "execution_count": null,
   "metadata": {},
   "outputs": [],
   "source": [
    "#Arbre de decision\n",
    "from sklearn.tree import DecisionTreeClassifier\n",
    "decisiontree = DecisionTreeClassifier(criterion = 'entropy', random_state = 0)\n",
    "decisiontree.fit(X_train,y_train)\n",
    "prediction=decisiontree.predict(X_test)\n",
    "print('Decision Tree (accuracy): '+str(accuracy_score(prediction,y_test)))\n",
    "#mesure des performances\n",
    "\n",
    "VN,FP,FN,VP=metrics.confusion_matrix(y_test,prediction).ravel()#tn fp fn tp\n",
    "print('VN,FP,FN,VP : ') \n",
    "print(VN,FP,FN,VP)\n",
    "\n",
    "precision=precision_score(y_test,prediction)\n",
    "print('precision :'+str(precision))\n",
    "recall=recall_score(y_test,prediction)\n",
    "print('recall :'+str(recall))\n",
    "F1=f1_score(y_test,prediction)\n",
    "print('F1 :'+str(F1))"
   ]
  },
  {
   "cell_type": "code",
   "execution_count": null,
   "metadata": {},
   "outputs": [],
   "source": [
    "#KPPV\n",
    "from sklearn.neighbors import KNeighborsClassifier\n",
    "kppv = KNeighborsClassifier(n_neighbors = 9, metric = 'minkowski', p = 2)\n",
    "kppv.fit(X_train,y_train)\n",
    "prediction=kppv.predict(X_test)\n",
    "print('KPPV (accuracy): '+str(accuracy_score(prediction,y_test)))\n",
    "#mesure des performances\n",
    "\n",
    "VN,FP,FN,VP=metrics.confusion_matrix(y_test,prediction).ravel()#tn fp fn tp\n",
    "print('VN,FP,FN,VP : ') \n",
    "print(VN,FP,FN,VP)\n",
    "\n",
    "precision=precision_score(y_test,prediction)\n",
    "print('precision :'+str(precision))\n",
    "recall=recall_score(y_test,prediction)\n",
    "print('recall :'+str(recall))\n",
    "F1=f1_score(y_test,prediction)\n",
    "print('F1 :'+str(F1))"
   ]
  },
  {
   "cell_type": "code",
   "execution_count": null,
   "metadata": {},
   "outputs": [],
   "source": []
  }
 ],
 "metadata": {
  "kernelspec": {
   "display_name": "Python 3",
   "language": "python",
   "name": "python3"
  },
  "language_info": {
   "codemirror_mode": {
    "name": "ipython",
    "version": 3
   },
   "file_extension": ".py",
   "mimetype": "text/x-python",
   "name": "python",
   "nbconvert_exporter": "python",
   "pygments_lexer": "ipython3",
   "version": "3.7.4"
  }
 },
 "nbformat": 4,
 "nbformat_minor": 2
}
